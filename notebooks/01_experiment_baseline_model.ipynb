{
 "cells": [
  {
   "cell_type": "code",
   "execution_count": 1,
   "metadata": {},
   "outputs": [],
   "source": [
    "# !pip install torch==2.2.0\n",
    "# !pip install torchtext==0.17.2\n",
    "# !pip install torchdata==0.7.1\n",
    "# !pip install transformers==4.35.2\n",
    "# !pip install seaborn"
   ]
  },
  {
   "cell_type": "code",
   "execution_count": 2,
   "metadata": {},
   "outputs": [],
   "source": [
    "import os\n",
    "os.chdir(\"..\")"
   ]
  },
  {
   "cell_type": "code",
   "execution_count": 12,
   "metadata": {},
   "outputs": [],
   "source": [
    "from src.dataloader import get_dataloaders\n",
    "from src.model import CustomGPTModel\n",
    "from src.engine import train_one_epoch, evaluate\n",
    "from src.utils import generate_text, setup_logging\n",
    "from src.config import *\n",
    "\n",
    "import torch\n",
    "import torch.nn as nn\n",
    "import time\n",
    "\n",
    "import matplotlib.pyplot as plt\n",
    "from typing import List"
   ]
  },
  {
   "cell_type": "code",
   "execution_count": null,
   "metadata": {},
   "outputs": [],
   "source": []
  },
  {
   "cell_type": "code",
   "execution_count": 4,
   "metadata": {},
   "outputs": [],
   "source": [
    "EXPERIMENT_DIR = 'runs/epoch_1_30'\n",
    "os.makedirs(EXPERIMENT_DIR, exist_ok=True)\n",
    "best_model_path = os.path.join(EXPERIMENT_DIR, \"best_model.pth\")\n",
    "checkpoint_path = os.path.join(EXPERIMENT_DIR, \"latest_checkpoint.pth\")\n",
    "log_file_path = os.path.join(EXPERIMENT_DIR, \"training.log\")"
   ]
  },
  {
   "cell_type": "code",
   "execution_count": 5,
   "metadata": {},
   "outputs": [],
   "source": [
    "logger = setup_logging(log_file_path)"
   ]
  },
  {
   "cell_type": "code",
   "execution_count": 6,
   "metadata": {},
   "outputs": [
    {
     "name": "stdout",
     "output_type": "stream",
     "text": [
      "Loading pre-processed data and vocabulary...\n",
      "Vocabulary Size: 39270\n",
      "Loading complete.\n",
      "\n",
      "--- Inspecting a single batch from the train_dataloader ---\n",
      "Shape of the source (src) batch:\ttorch.Size([64, 64]) -> [sequence_length, batch_size]\n",
      "Shape of the target (tgt) batch:\ttorch.Size([64, 64]) -> [sequence_length, batch_size]\n",
      "\n",
      "--- Inspecting the first example in the batch ---\n",
      "Shape of a single source example:\ttorch.Size([64])\n",
      "\n",
      "Decoded Source (Input to Model):\n",
      "'however for the viewer who sits through this nonsensical trash there is absolutely nothing to love about this movieyou havent seen dysfunctional families until youve seen this bunch pa is crazy ma is crazy the son is crazy and the daughter is oh yeah crazy they also have mouths on them that utter words that would make a sailor blush especially the teenage <unk>'\n",
      "\n",
      "Decoded Target (What Model Predicts):\n",
      "'for the viewer who sits through this nonsensical trash there is absolutely nothing to love about this movieyou havent seen dysfunctional families until youve seen this bunch pa is crazy ma is crazy the son is crazy and the daughter is oh yeah crazy they also have mouths on them that utter words that would make a sailor blush especially the teenage <unk> addition'\n",
      "------------------------------------------------------------\n"
     ]
    }
   ],
   "source": [
    "train_dataloader, val_dataloader, test_dataloader, vocab = get_dataloaders(\n",
    "    processed_data_path=PROCESSED_DATA_PATH,\n",
    "    vocab_path=VOCAB_PATH,\n",
    "    tokenizer=tokenizer,\n",
    "    block_size=BLOCK_SIZE,\n",
    "    batch_size=BATCH_SIZE,\n",
    "    device=DEVICE,\n",
    "    PAD_IDX=PAD_IDX,\n",
    "    END_OF_TEXT_TOKEN=END_OF_TEXT_TOKEN\n",
    ")"
   ]
  },
  {
   "cell_type": "code",
   "execution_count": 7,
   "metadata": {},
   "outputs": [],
   "source": [
    "VOCAB_SIZE = len(vocab)"
   ]
  },
  {
   "cell_type": "code",
   "execution_count": 8,
   "metadata": {},
   "outputs": [
    {
     "data": {
      "text/plain": [
       "39270"
      ]
     },
     "execution_count": 8,
     "metadata": {},
     "output_type": "execute_result"
    }
   ],
   "source": [
    "VOCAB_SIZE"
   ]
  },
  {
   "cell_type": "code",
   "execution_count": 9,
   "metadata": {},
   "outputs": [],
   "source": [
    "model = CustomGPTModel(\n",
    "    vocab_size=VOCAB_SIZE,\n",
    "    embed_size=EMBED_SIZE,\n",
    "    num_heads=NUM_HEADS,\n",
    "    num_layers=NUM_LAYERS,\n",
    "    dropout=DROPOUT,\n",
    "    max_seq_len=BLOCK_SIZE\n",
    ").to(DEVICE)\n",
    "\n",
    "loss_fn = nn.CrossEntropyLoss(ignore_index=PAD_IDX)\n",
    "optimizer = torch.optim.AdamW(model.parameters(), lr=0.001)\n",
    "\n",
    "NUM_EPOCHS = 30 \n",
    "total_steps = len(train_dataloader) * NUM_EPOCHS\n",
    "scheduler = torch.optim.lr_scheduler.OneCycleLR(\n",
    "    optimizer,\n",
    "    max_lr=0.0003, \n",
    "    total_steps=total_steps,\n",
    "    pct_start=0.1,    \n",
    "    anneal_strategy='cos'\n",
    ")"
   ]
  },
  {
   "cell_type": "code",
   "execution_count": null,
   "metadata": {},
   "outputs": [],
   "source": []
  },
  {
   "cell_type": "code",
   "execution_count": 10,
   "metadata": {
    "scrolled": true
   },
   "outputs": [
    {
     "name": "stdout",
     "output_type": "stream",
     "text": [
      "2025-08-15 16:13:12,291 - INFO - Starting training for 30 epochs on device: cuda\n"
     ]
    },
    {
     "name": "stderr",
     "output_type": "stream",
     "text": [
      "Training Epoch: 100%|██████████| 625/625 [00:36<00:00, 17.23it/s, loss=8.6907, acc=0.0570] \n",
      "Evaluating: 100%|██████████| 79/79 [00:02<00:00, 32.57it/s]"
     ]
    },
    {
     "name": "stdout",
     "output_type": "stream",
     "text": [
      "2025-08-15 16:13:50,998 - INFO - | Epoch   1/ 30 | Time: 38.71s | LR: 0.000084 | Train Loss: 8.691, PPL:  5947.41, Acc:  5.70% | Val Loss: 6.826, PPL:   921.06, Acc:  5.88% |\n"
     ]
    },
    {
     "name": "stderr",
     "output_type": "stream",
     "text": [
      "\n"
     ]
    },
    {
     "name": "stdout",
     "output_type": "stream",
     "text": [
      "2025-08-15 16:13:51,394 - INFO - -> New best model saved to 'runs/epoch_1_30/best_model.pth' with validation loss: 6.826\n"
     ]
    },
    {
     "name": "stderr",
     "output_type": "stream",
     "text": [
      "Training Epoch: 100%|██████████| 625/625 [00:35<00:00, 17.40it/s, loss=6.2743, acc=0.1139]\n",
      "Evaluating: 100%|██████████| 79/79 [00:02<00:00, 31.99it/s]"
     ]
    },
    {
     "name": "stdout",
     "output_type": "stream",
     "text": [
      "2025-08-15 16:14:30,789 - INFO - | Epoch   2/ 30 | Time: 38.39s | LR: 0.000228 | Train Loss: 6.274, PPL:   530.75, Acc: 11.39% | Val Loss: 5.842, PPL:   344.30, Acc: 14.06% |\n"
     ]
    },
    {
     "name": "stderr",
     "output_type": "stream",
     "text": [
      "\n"
     ]
    },
    {
     "name": "stdout",
     "output_type": "stream",
     "text": [
      "2025-08-15 16:14:31,287 - INFO - -> New best model saved to 'runs/epoch_1_30/best_model.pth' with validation loss: 5.842\n"
     ]
    },
    {
     "name": "stderr",
     "output_type": "stream",
     "text": [
      "Training Epoch: 100%|██████████| 625/625 [00:36<00:00, 17.35it/s, loss=5.7331, acc=0.1484]\n",
      "Evaluating: 100%|██████████| 79/79 [00:02<00:00, 31.82it/s]"
     ]
    },
    {
     "name": "stdout",
     "output_type": "stream",
     "text": [
      "2025-08-15 16:15:11,104 - INFO - | Epoch   3/ 30 | Time: 38.50s | LR: 0.000300 | Train Loss: 5.733, PPL:   308.92, Acc: 14.84% | Val Loss: 5.536, PPL:   253.70, Acc: 16.00% |\n"
     ]
    },
    {
     "name": "stderr",
     "output_type": "stream",
     "text": [
      "\n"
     ]
    },
    {
     "name": "stdout",
     "output_type": "stream",
     "text": [
      "2025-08-15 16:15:11,615 - INFO - -> New best model saved to 'runs/epoch_1_30/best_model.pth' with validation loss: 5.536\n"
     ]
    },
    {
     "name": "stderr",
     "output_type": "stream",
     "text": [
      "Training Epoch: 100%|██████████| 625/625 [00:36<00:00, 17.34it/s, loss=5.4879, acc=0.1624]\n",
      "Evaluating: 100%|██████████| 79/79 [00:02<00:00, 32.09it/s]"
     ]
    },
    {
     "name": "stdout",
     "output_type": "stream",
     "text": [
      "2025-08-15 16:15:51,448 - INFO - | Epoch   4/ 30 | Time: 38.50s | LR: 0.000299 | Train Loss: 5.488, PPL:   241.75, Acc: 16.24% | Val Loss: 5.370, PPL:   214.94, Acc: 16.95% |\n"
     ]
    },
    {
     "name": "stderr",
     "output_type": "stream",
     "text": [
      "\n"
     ]
    },
    {
     "name": "stdout",
     "output_type": "stream",
     "text": [
      "2025-08-15 16:15:51,970 - INFO - -> New best model saved to 'runs/epoch_1_30/best_model.pth' with validation loss: 5.370\n"
     ]
    },
    {
     "name": "stderr",
     "output_type": "stream",
     "text": [
      "Training Epoch: 100%|██████████| 625/625 [00:35<00:00, 17.42it/s, loss=5.3228, acc=0.1719]\n",
      "Evaluating: 100%|██████████| 79/79 [00:02<00:00, 31.90it/s]"
     ]
    },
    {
     "name": "stdout",
     "output_type": "stream",
     "text": [
      "2025-08-15 16:16:31,669 - INFO - | Epoch   5/ 30 | Time: 38.35s | LR: 0.000296 | Train Loss: 5.323, PPL:   204.95, Acc: 17.19% | Val Loss: 5.276, PPL:   195.57, Acc: 17.55% |\n"
     ]
    },
    {
     "name": "stderr",
     "output_type": "stream",
     "text": [
      "\n"
     ]
    },
    {
     "name": "stdout",
     "output_type": "stream",
     "text": [
      "2025-08-15 16:16:32,210 - INFO - -> New best model saved to 'runs/epoch_1_30/best_model.pth' with validation loss: 5.276\n"
     ]
    },
    {
     "name": "stderr",
     "output_type": "stream",
     "text": [
      "Training Epoch: 100%|██████████| 625/625 [00:36<00:00, 17.35it/s, loss=5.2067, acc=0.1787]\n",
      "Evaluating: 100%|██████████| 79/79 [00:02<00:00, 31.31it/s]"
     ]
    },
    {
     "name": "stdout",
     "output_type": "stream",
     "text": [
      "2025-08-15 16:17:12,097 - INFO - | Epoch   6/ 30 | Time: 38.54s | LR: 0.000291 | Train Loss: 5.207, PPL:   182.48, Acc: 17.87% | Val Loss: 5.212, PPL:   183.49, Acc: 18.13% |\n"
     ]
    },
    {
     "name": "stderr",
     "output_type": "stream",
     "text": [
      "\n"
     ]
    },
    {
     "name": "stdout",
     "output_type": "stream",
     "text": [
      "2025-08-15 16:17:12,607 - INFO - -> New best model saved to 'runs/epoch_1_30/best_model.pth' with validation loss: 5.212\n"
     ]
    },
    {
     "name": "stderr",
     "output_type": "stream",
     "text": [
      "Training Epoch: 100%|██████████| 625/625 [00:35<00:00, 17.45it/s, loss=5.1117, acc=0.1842]\n",
      "Evaluating: 100%|██████████| 79/79 [00:02<00:00, 32.13it/s]"
     ]
    },
    {
     "name": "stdout",
     "output_type": "stream",
     "text": [
      "2025-08-15 16:17:52,181 - INFO - | Epoch   7/ 30 | Time: 38.29s | LR: 0.000284 | Train Loss: 5.112, PPL:   165.96, Acc: 18.42% | Val Loss: 5.151, PPL:   172.55, Acc: 18.50% |\n"
     ]
    },
    {
     "name": "stderr",
     "output_type": "stream",
     "text": [
      "\n"
     ]
    },
    {
     "name": "stdout",
     "output_type": "stream",
     "text": [
      "2025-08-15 16:17:52,684 - INFO - -> New best model saved to 'runs/epoch_1_30/best_model.pth' with validation loss: 5.151\n"
     ]
    },
    {
     "name": "stderr",
     "output_type": "stream",
     "text": [
      "Training Epoch: 100%|██████████| 625/625 [00:35<00:00, 17.44it/s, loss=5.0382, acc=0.1881]\n",
      "Evaluating: 100%|██████████| 79/79 [00:02<00:00, 31.90it/s]"
     ]
    },
    {
     "name": "stdout",
     "output_type": "stream",
     "text": [
      "2025-08-15 16:18:32,259 - INFO - | Epoch   8/ 30 | Time: 38.31s | LR: 0.000275 | Train Loss: 5.038, PPL:   154.20, Acc: 18.81% | Val Loss: 5.119, PPL:   167.24, Acc: 18.82% |\n"
     ]
    },
    {
     "name": "stderr",
     "output_type": "stream",
     "text": [
      "\n"
     ]
    },
    {
     "name": "stdout",
     "output_type": "stream",
     "text": [
      "2025-08-15 16:18:32,771 - INFO - -> New best model saved to 'runs/epoch_1_30/best_model.pth' with validation loss: 5.119\n"
     ]
    },
    {
     "name": "stderr",
     "output_type": "stream",
     "text": [
      "Training Epoch: 100%|██████████| 625/625 [00:35<00:00, 17.39it/s, loss=4.9703, acc=0.1922]\n",
      "Evaluating: 100%|██████████| 79/79 [00:02<00:00, 31.89it/s]"
     ]
    },
    {
     "name": "stdout",
     "output_type": "stream",
     "text": [
      "2025-08-15 16:19:12,551 - INFO - | Epoch   9/ 30 | Time: 38.41s | LR: 0.000265 | Train Loss: 4.970, PPL:   144.07, Acc: 19.22% | Val Loss: 5.079, PPL:   160.68, Acc: 19.16% |\n"
     ]
    },
    {
     "name": "stderr",
     "output_type": "stream",
     "text": [
      "\n"
     ]
    },
    {
     "name": "stdout",
     "output_type": "stream",
     "text": [
      "2025-08-15 16:19:13,076 - INFO - -> New best model saved to 'runs/epoch_1_30/best_model.pth' with validation loss: 5.079\n"
     ]
    },
    {
     "name": "stderr",
     "output_type": "stream",
     "text": [
      "Training Epoch: 100%|██████████| 625/625 [00:35<00:00, 17.43it/s, loss=4.9086, acc=0.1954]\n",
      "Evaluating: 100%|██████████| 79/79 [00:02<00:00, 32.25it/s]"
     ]
    },
    {
     "name": "stdout",
     "output_type": "stream",
     "text": [
      "2025-08-15 16:19:52,753 - INFO - | Epoch  10/ 30 | Time: 38.32s | LR: 0.000253 | Train Loss: 4.909, PPL:   135.44, Acc: 19.54% | Val Loss: 5.074, PPL:   159.79, Acc: 19.12% |\n"
     ]
    },
    {
     "name": "stderr",
     "output_type": "stream",
     "text": [
      "\n"
     ]
    },
    {
     "name": "stdout",
     "output_type": "stream",
     "text": [
      "2025-08-15 16:19:53,310 - INFO - -> New best model saved to 'runs/epoch_1_30/best_model.pth' with validation loss: 5.074\n"
     ]
    },
    {
     "name": "stderr",
     "output_type": "stream",
     "text": [
      "Training Epoch: 100%|██████████| 625/625 [00:35<00:00, 17.42it/s, loss=4.8585, acc=0.1982]\n",
      "Evaluating: 100%|██████████| 79/79 [00:02<00:00, 32.65it/s]"
     ]
    },
    {
     "name": "stdout",
     "output_type": "stream",
     "text": [
      "2025-08-15 16:20:32,991 - INFO - | Epoch  11/ 30 | Time: 38.30s | LR: 0.000240 | Train Loss: 4.858, PPL:   128.83, Acc: 19.82% | Val Loss: 5.059, PPL:   157.36, Acc: 19.33% |\n"
     ]
    },
    {
     "name": "stderr",
     "output_type": "stream",
     "text": [
      "\n"
     ]
    },
    {
     "name": "stdout",
     "output_type": "stream",
     "text": [
      "2025-08-15 16:20:33,520 - INFO - -> New best model saved to 'runs/epoch_1_30/best_model.pth' with validation loss: 5.059\n"
     ]
    },
    {
     "name": "stderr",
     "output_type": "stream",
     "text": [
      "Training Epoch: 100%|██████████| 625/625 [00:35<00:00, 17.39it/s, loss=4.8062, acc=0.2020]\n",
      "Evaluating: 100%|██████████| 79/79 [00:02<00:00, 32.34it/s]"
     ]
    },
    {
     "name": "stdout",
     "output_type": "stream",
     "text": [
      "2025-08-15 16:21:13,292 - INFO - | Epoch  12/ 30 | Time: 38.39s | LR: 0.000225 | Train Loss: 4.806, PPL:   122.27, Acc: 20.20% | Val Loss: 5.040, PPL:   154.41, Acc: 19.51% |\n"
     ]
    },
    {
     "name": "stderr",
     "output_type": "stream",
     "text": [
      "\n"
     ]
    },
    {
     "name": "stdout",
     "output_type": "stream",
     "text": [
      "2025-08-15 16:21:13,819 - INFO - -> New best model saved to 'runs/epoch_1_30/best_model.pth' with validation loss: 5.040\n"
     ]
    },
    {
     "name": "stderr",
     "output_type": "stream",
     "text": [
      "Training Epoch: 100%|██████████| 625/625 [00:35<00:00, 17.42it/s, loss=4.7639, acc=0.2042]\n",
      "Evaluating: 100%|██████████| 79/79 [00:02<00:00, 32.04it/s]"
     ]
    },
    {
     "name": "stdout",
     "output_type": "stream",
     "text": [
      "2025-08-15 16:21:53,582 - INFO - | Epoch  13/ 30 | Time: 38.35s | LR: 0.000209 | Train Loss: 4.764, PPL:   117.21, Acc: 20.42% | Val Loss: 5.029, PPL:   152.73, Acc: 19.55% |\n"
     ]
    },
    {
     "name": "stderr",
     "output_type": "stream",
     "text": [
      "\n"
     ]
    },
    {
     "name": "stdout",
     "output_type": "stream",
     "text": [
      "2025-08-15 16:21:54,083 - INFO - -> New best model saved to 'runs/epoch_1_30/best_model.pth' with validation loss: 5.029\n"
     ]
    },
    {
     "name": "stderr",
     "output_type": "stream",
     "text": [
      "Training Epoch: 100%|██████████| 625/625 [00:35<00:00, 17.40it/s, loss=4.7286, acc=0.2063]\n",
      "Evaluating: 100%|██████████| 79/79 [00:02<00:00, 32.39it/s]"
     ]
    },
    {
     "name": "stdout",
     "output_type": "stream",
     "text": [
      "2025-08-15 16:22:33,710 - INFO - | Epoch  14/ 30 | Time: 38.40s | LR: 0.000193 | Train Loss: 4.729, PPL:   113.14, Acc: 20.63% | Val Loss: 5.031, PPL:   153.12, Acc: 19.72% |\n"
     ]
    },
    {
     "name": "stderr",
     "output_type": "stream",
     "text": [
      "\n",
      "Training Epoch: 100%|██████████| 625/625 [00:35<00:00, 17.39it/s, loss=4.6902, acc=0.2089]\n",
      "Evaluating: 100%|██████████| 79/79 [00:02<00:00, 32.14it/s]"
     ]
    },
    {
     "name": "stdout",
     "output_type": "stream",
     "text": [
      "2025-08-15 16:23:13,582 - INFO - | Epoch  15/ 30 | Time: 38.39s | LR: 0.000176 | Train Loss: 4.690, PPL:   108.88, Acc: 20.89% | Val Loss: 5.022, PPL:   151.70, Acc: 19.80% |\n"
     ]
    },
    {
     "name": "stderr",
     "output_type": "stream",
     "text": [
      "\n"
     ]
    },
    {
     "name": "stdout",
     "output_type": "stream",
     "text": [
      "2025-08-15 16:23:14,126 - INFO - -> New best model saved to 'runs/epoch_1_30/best_model.pth' with validation loss: 5.022\n"
     ]
    },
    {
     "name": "stderr",
     "output_type": "stream",
     "text": [
      "Training Epoch: 100%|██████████| 625/625 [00:35<00:00, 17.40it/s, loss=4.6608, acc=0.2110]\n",
      "Evaluating: 100%|██████████| 79/79 [00:02<00:00, 31.95it/s]"
     ]
    },
    {
     "name": "stdout",
     "output_type": "stream",
     "text": [
      "2025-08-15 16:23:53,824 - INFO - | Epoch  16/ 30 | Time: 38.39s | LR: 0.000159 | Train Loss: 4.661, PPL:   105.72, Acc: 21.10% | Val Loss: 5.023, PPL:   151.85, Acc: 19.75% |\n"
     ]
    },
    {
     "name": "stderr",
     "output_type": "stream",
     "text": [
      "\n",
      "Training Epoch: 100%|██████████| 625/625 [00:35<00:00, 17.43it/s, loss=4.6311, acc=0.2130]\n",
      "Evaluating: 100%|██████████| 79/79 [00:02<00:00, 32.02it/s]"
     ]
    },
    {
     "name": "stdout",
     "output_type": "stream",
     "text": [
      "2025-08-15 16:24:33,448 - INFO - | Epoch  17/ 30 | Time: 38.32s | LR: 0.000141 | Train Loss: 4.631, PPL:   102.62, Acc: 21.30% | Val Loss: 5.015, PPL:   150.67, Acc: 19.90% |\n"
     ]
    },
    {
     "name": "stderr",
     "output_type": "stream",
     "text": [
      "\n"
     ]
    },
    {
     "name": "stdout",
     "output_type": "stream",
     "text": [
      "2025-08-15 16:24:33,979 - INFO - -> New best model saved to 'runs/epoch_1_30/best_model.pth' with validation loss: 5.015\n"
     ]
    },
    {
     "name": "stderr",
     "output_type": "stream",
     "text": [
      "Training Epoch: 100%|██████████| 625/625 [00:35<00:00, 17.42it/s, loss=4.6026, acc=0.2147]\n",
      "Evaluating: 100%|██████████| 79/79 [00:02<00:00, 32.54it/s]"
     ]
    },
    {
     "name": "stdout",
     "output_type": "stream",
     "text": [
      "2025-08-15 16:25:13,490 - INFO - | Epoch  18/ 30 | Time: 38.30s | LR: 0.000124 | Train Loss: 4.603, PPL:    99.75, Acc: 21.47% | Val Loss: 5.008, PPL:   149.66, Acc: 19.91% |\n"
     ]
    },
    {
     "name": "stderr",
     "output_type": "stream",
     "text": [
      "\n"
     ]
    },
    {
     "name": "stdout",
     "output_type": "stream",
     "text": [
      "2025-08-15 16:25:14,016 - INFO - -> New best model saved to 'runs/epoch_1_30/best_model.pth' with validation loss: 5.008\n"
     ]
    },
    {
     "name": "stderr",
     "output_type": "stream",
     "text": [
      "Training Epoch: 100%|██████████| 625/625 [00:35<00:00, 17.51it/s, loss=4.5782, acc=0.2164]\n",
      "Evaluating: 100%|██████████| 79/79 [00:02<00:00, 32.02it/s]"
     ]
    },
    {
     "name": "stdout",
     "output_type": "stream",
     "text": [
      "2025-08-15 16:25:53,561 - INFO - | Epoch  19/ 30 | Time: 38.16s | LR: 0.000107 | Train Loss: 4.578, PPL:    97.34, Acc: 21.64% | Val Loss: 5.006, PPL:   149.30, Acc: 20.06% |\n"
     ]
    },
    {
     "name": "stderr",
     "output_type": "stream",
     "text": [
      "\n"
     ]
    },
    {
     "name": "stdout",
     "output_type": "stream",
     "text": [
      "2025-08-15 16:25:54,122 - INFO - -> New best model saved to 'runs/epoch_1_30/best_model.pth' with validation loss: 5.006\n"
     ]
    },
    {
     "name": "stderr",
     "output_type": "stream",
     "text": [
      "Training Epoch: 100%|██████████| 625/625 [00:35<00:00, 17.45it/s, loss=4.5548, acc=0.2181]\n",
      "Evaluating: 100%|██████████| 79/79 [00:02<00:00, 32.00it/s]"
     ]
    },
    {
     "name": "stdout",
     "output_type": "stream",
     "text": [
      "2025-08-15 16:26:33,762 - INFO - | Epoch  20/ 30 | Time: 38.29s | LR: 0.000091 | Train Loss: 4.555, PPL:    95.09, Acc: 21.81% | Val Loss: 5.005, PPL:   149.18, Acc: 19.97% |\n"
     ]
    },
    {
     "name": "stderr",
     "output_type": "stream",
     "text": [
      "\n"
     ]
    },
    {
     "name": "stdout",
     "output_type": "stream",
     "text": [
      "2025-08-15 16:26:34,303 - INFO - -> New best model saved to 'runs/epoch_1_30/best_model.pth' with validation loss: 5.005\n"
     ]
    },
    {
     "name": "stderr",
     "output_type": "stream",
     "text": [
      "Training Epoch: 100%|██████████| 625/625 [00:35<00:00, 17.45it/s, loss=4.5348, acc=0.2197]\n",
      "Evaluating: 100%|██████████| 79/79 [00:02<00:00, 32.01it/s]"
     ]
    },
    {
     "name": "stdout",
     "output_type": "stream",
     "text": [
      "2025-08-15 16:27:13,815 - INFO - | Epoch  21/ 30 | Time: 38.28s | LR: 0.000075 | Train Loss: 4.535, PPL:    93.21, Acc: 21.97% | Val Loss: 4.994, PPL:   147.48, Acc: 20.16% |\n"
     ]
    },
    {
     "name": "stderr",
     "output_type": "stream",
     "text": [
      "\n"
     ]
    },
    {
     "name": "stdout",
     "output_type": "stream",
     "text": [
      "2025-08-15 16:27:14,337 - INFO - -> New best model saved to 'runs/epoch_1_30/best_model.pth' with validation loss: 4.994\n"
     ]
    },
    {
     "name": "stderr",
     "output_type": "stream",
     "text": [
      "Training Epoch: 100%|██████████| 625/625 [00:35<00:00, 17.39it/s, loss=4.5183, acc=0.2210]\n",
      "Evaluating: 100%|██████████| 79/79 [00:02<00:00, 32.23it/s]"
     ]
    },
    {
     "name": "stdout",
     "output_type": "stream",
     "text": [
      "2025-08-15 16:27:54,082 - INFO - | Epoch  22/ 30 | Time: 38.40s | LR: 0.000060 | Train Loss: 4.518, PPL:    91.68, Acc: 22.10% | Val Loss: 5.000, PPL:   148.43, Acc: 20.07% |\n"
     ]
    },
    {
     "name": "stderr",
     "output_type": "stream",
     "text": [
      "\n",
      "Training Epoch: 100%|██████████| 625/625 [00:35<00:00, 17.36it/s, loss=4.5071, acc=0.2222]\n",
      "Evaluating: 100%|██████████| 79/79 [00:02<00:00, 31.91it/s]"
     ]
    },
    {
     "name": "stdout",
     "output_type": "stream",
     "text": [
      "2025-08-15 16:28:33,857 - INFO - | Epoch  23/ 30 | Time: 38.48s | LR: 0.000047 | Train Loss: 4.507, PPL:    90.66, Acc: 22.22% | Val Loss: 4.994, PPL:   147.57, Acc: 20.15% |\n"
     ]
    },
    {
     "name": "stderr",
     "output_type": "stream",
     "text": [
      "\n",
      "Training Epoch: 100%|██████████| 625/625 [00:36<00:00, 17.33it/s, loss=4.4932, acc=0.2230]\n",
      "Evaluating: 100%|██████████| 79/79 [00:02<00:00, 31.93it/s]"
     ]
    },
    {
     "name": "stdout",
     "output_type": "stream",
     "text": [
      "2025-08-15 16:29:13,689 - INFO - | Epoch  24/ 30 | Time: 38.54s | LR: 0.000035 | Train Loss: 4.493, PPL:    89.41, Acc: 22.30% | Val Loss: 5.004, PPL:   148.97, Acc: 20.16% |\n"
     ]
    },
    {
     "name": "stderr",
     "output_type": "stream",
     "text": [
      "\n",
      "Training Epoch: 100%|██████████| 625/625 [00:36<00:00, 17.29it/s, loss=4.4831, acc=0.2238]\n",
      "Evaluating: 100%|██████████| 79/79 [00:02<00:00, 32.13it/s]"
     ]
    },
    {
     "name": "stdout",
     "output_type": "stream",
     "text": [
      "2025-08-15 16:29:53,645 - INFO - | Epoch  25/ 30 | Time: 38.60s | LR: 0.000025 | Train Loss: 4.483, PPL:    88.51, Acc: 22.38% | Val Loss: 5.002, PPL:   148.69, Acc: 20.18% |\n"
     ]
    },
    {
     "name": "stderr",
     "output_type": "stream",
     "text": [
      "\n",
      "Training Epoch: 100%|██████████| 625/625 [00:36<00:00, 17.16it/s, loss=4.4753, acc=0.2245]\n",
      "Evaluating: 100%|██████████| 79/79 [00:02<00:00, 31.81it/s]"
     ]
    },
    {
     "name": "stdout",
     "output_type": "stream",
     "text": [
      "2025-08-15 16:30:33,954 - INFO - | Epoch  26/ 30 | Time: 38.91s | LR: 0.000016 | Train Loss: 4.475, PPL:    87.82, Acc: 22.45% | Val Loss: 5.004, PPL:   148.98, Acc: 20.15% |\n"
     ]
    },
    {
     "name": "stderr",
     "output_type": "stream",
     "text": [
      "\n",
      "Training Epoch: 100%|██████████| 625/625 [00:36<00:00, 17.27it/s, loss=4.4703, acc=0.2249]\n",
      "Evaluating: 100%|██████████| 79/79 [00:02<00:00, 32.02it/s]"
     ]
    },
    {
     "name": "stdout",
     "output_type": "stream",
     "text": [
      "2025-08-15 16:31:13,998 - INFO - | Epoch  27/ 30 | Time: 38.65s | LR: 0.000009 | Train Loss: 4.470, PPL:    87.39, Acc: 22.49% | Val Loss: 4.991, PPL:   147.07, Acc: 20.30% |\n"
     ]
    },
    {
     "name": "stderr",
     "output_type": "stream",
     "text": [
      "\n"
     ]
    },
    {
     "name": "stdout",
     "output_type": "stream",
     "text": [
      "2025-08-15 16:31:14,569 - INFO - -> New best model saved to 'runs/epoch_1_30/best_model.pth' with validation loss: 4.991\n"
     ]
    },
    {
     "name": "stderr",
     "output_type": "stream",
     "text": [
      "Training Epoch: 100%|██████████| 625/625 [00:35<00:00, 17.39it/s, loss=4.4635, acc=0.2253]\n",
      "Evaluating: 100%|██████████| 79/79 [00:02<00:00, 32.01it/s]"
     ]
    },
    {
     "name": "stdout",
     "output_type": "stream",
     "text": [
      "2025-08-15 16:31:54,353 - INFO - | Epoch  28/ 30 | Time: 38.41s | LR: 0.000004 | Train Loss: 4.463, PPL:    86.79, Acc: 22.53% | Val Loss: 5.000, PPL:   148.35, Acc: 20.17% |\n"
     ]
    },
    {
     "name": "stderr",
     "output_type": "stream",
     "text": [
      "\n",
      "Training Epoch: 100%|██████████| 625/625 [00:35<00:00, 17.40it/s, loss=4.4654, acc=0.2255]\n",
      "Evaluating: 100%|██████████| 79/79 [00:02<00:00, 32.00it/s]"
     ]
    },
    {
     "name": "stdout",
     "output_type": "stream",
     "text": [
      "2025-08-15 16:32:33,947 - INFO - | Epoch  29/ 30 | Time: 38.39s | LR: 0.000001 | Train Loss: 4.465, PPL:    86.96, Acc: 22.55% | Val Loss: 4.996, PPL:   147.82, Acc: 20.32% |\n"
     ]
    },
    {
     "name": "stderr",
     "output_type": "stream",
     "text": [
      "\n",
      "Training Epoch: 100%|██████████| 625/625 [00:35<00:00, 17.42it/s, loss=4.4642, acc=0.2258]\n",
      "Evaluating: 100%|██████████| 79/79 [00:02<00:00, 32.64it/s]"
     ]
    },
    {
     "name": "stdout",
     "output_type": "stream",
     "text": [
      "2025-08-15 16:33:13,585 - INFO - | Epoch  30/ 30 | Time: 38.31s | LR: 0.000000 | Train Loss: 4.464, PPL:    86.85, Acc: 22.58% | Val Loss: 4.998, PPL:   148.06, Acc: 20.14% |\n"
     ]
    },
    {
     "name": "stderr",
     "output_type": "stream",
     "text": [
      "\n"
     ]
    }
   ],
   "source": [
    "train_losses, train_accuracies, train_perplexities = [], [], []\n",
    "val_losses, val_accuracies, val_perplexities = [], [], []\n",
    "\n",
    "start_epoch = 1\n",
    "best_val_loss = float('inf')\n",
    "\n",
    "logger.info(f\"Starting training for {NUM_EPOCHS} epochs on device: {DEVICE}\")\n",
    "\n",
    "for epoch in range(start_epoch, NUM_EPOCHS + 1):\n",
    "    epoch_start_time = time.time()\n",
    "\n",
    "    train_loss, train_acc, train_ppl = train_one_epoch(model, train_dataloader, loss_fn, optimizer, scheduler, DEVICE)\n",
    "    val_loss, val_acc, val_ppl = evaluate(model, val_dataloader, loss_fn, DEVICE)\n",
    "    \n",
    "    epoch_duration = time.time() - epoch_start_time\n",
    "    current_lr = optimizer.param_groups[0]['lr']\n",
    "\n",
    "    train_losses.append(train_loss)\n",
    "    train_accuracies.append(train_acc)\n",
    "    train_perplexities.append(train_ppl)\n",
    "    val_losses.append(val_loss)\n",
    "    val_accuracies.append(val_acc)\n",
    "    val_perplexities.append(val_ppl)\n",
    "\n",
    "    log_message = (\n",
    "    f\"| Epoch {epoch:3d}/{NUM_EPOCHS:3d} | Time: {epoch_duration:5.2f}s | LR: {current_lr:.6f} | \"\n",
    "    f\"Train Loss: {train_loss:5.3f}, PPL: {train_ppl:8.2f}, Acc: {train_acc*100:5.2f}% | \"\n",
    "    f\"Val Loss: {val_loss:5.3f}, PPL: {val_ppl:8.2f}, Acc: {val_acc*100:5.2f}% |\"\n",
    "    )\n",
    "    logger.info(log_message)\n",
    "\n",
    "    if val_loss < best_val_loss:\n",
    "        best_val_loss = val_loss\n",
    "        torch.save(model.state_dict(), best_model_path)\n",
    "        logger.info(f\"-> New best model saved to '{best_model_path}' with validation loss: {best_val_loss:.3f}\")\n",
    "\n",
    "\n",
    "    torch.save({\n",
    "        'epoch': epoch,\n",
    "        'model_state_dict': model.state_dict(),\n",
    "        'optimizer_state_dict': optimizer.state_dict(),\n",
    "        'scheduler_state_dict': scheduler.state_dict(),\n",
    "        'best_val_loss': best_val_loss,\n",
    "        'train_losses': train_losses,\n",
    "        'train_accuracies': train_accuracies,\n",
    "        'train_perplexities': train_perplexities,\n",
    "        'val_losses': val_losses,\n",
    "        'val_accuracies': val_accuracies,\n",
    "        'val_perplexities': val_perplexities\n",
    "        \n",
    "    }, checkpoint_path)"
   ]
  },
  {
   "cell_type": "code",
   "execution_count": null,
   "metadata": {},
   "outputs": [],
   "source": []
  },
  {
   "cell_type": "code",
   "execution_count": 13,
   "metadata": {},
   "outputs": [],
   "source": [
    "def plot_history(\n",
    "    train_losses: List[float],\n",
    "    val_losses: List[float],\n",
    "    train_accuracies: List[float],\n",
    "    val_accuracies: List[float],\n",
    "    train_perplexities: List[float],\n",
    "    val_perplexities: List[float]\n",
    "):\n",
    "    \"\"\"\n",
    "    Plots the training and validation metrics over epochs.\n",
    "    \"\"\"\n",
    "    epochs = range(1, len(train_losses) + 1)\n",
    "    \n",
    "    plt.figure(figsize=(18, 5))\n",
    "    \n",
    "    # --- Subplot 1: Loss ---\n",
    "    plt.subplot(1, 3, 1)\n",
    "    plt.plot(epochs, train_losses, 'bo-', label='Training Loss')\n",
    "    plt.plot(epochs, val_losses, 'ro-', label='Validation Loss')\n",
    "    plt.title('Training and Validation Loss')\n",
    "    plt.xlabel('Epochs')\n",
    "    plt.ylabel('Loss')\n",
    "    plt.legend()\n",
    "    plt.grid(True)\n",
    "    \n",
    "    # --- Subplot 2: Accuracy ---\n",
    "    plt.subplot(1, 3, 2)\n",
    "    plt.plot(epochs, train_accuracies, 'bo-', label='Training Accuracy')\n",
    "    plt.plot(epochs, val_accuracies, 'ro-', label='Validation Accuracy')\n",
    "    plt.title('Training and Validation Accuracy')\n",
    "    plt.xlabel('Epochs')\n",
    "    plt.ylabel('Accuracy')\n",
    "    plt.legend()\n",
    "    plt.grid(True)\n",
    "    \n",
    "    # --- Subplot 3: Perplexity ---\n",
    "    plt.subplot(1, 3, 3)\n",
    "    plt.plot(epochs, train_perplexities, 'bo-', label='Training Perplexity')\n",
    "    plt.plot(epochs, val_perplexities, 'ro-', label='Validation Perplexity')\n",
    "    plt.title('Training and Validation Perplexity')\n",
    "    plt.xlabel('Epochs')\n",
    "    plt.ylabel('Perplexity')\n",
    "    plt.legend()\n",
    "    plt.grid(True)\n",
    "    \n",
    "    plt.tight_layout()\n",
    "    plt.show()"
   ]
  },
  {
   "cell_type": "code",
   "execution_count": 14,
   "metadata": {},
   "outputs": [
    {
     "data": {
      "image/png": "[encoded data removed]",
      "text/plain": [
       "<Figure size 1800x500 with 3 Axes>"
      ]
     },
     "metadata": {},
     "output_type": "display_data"
    }
   ],
   "source": [
    "plot_history(\n",
    "    train_losses,\n",
    "    val_losses,\n",
    "    train_accuracies,\n",
    "    val_accuracies,\n",
    "    train_perplexities,\n",
    "    val_perplexities\n",
    ")\n",
    "\n",
    "# checkpoint = torch.load(checkpoint_path)\n",
    "# plot_history(\n",
    "#     checkpoint['train_losses'],\n",
    "#     checkpoint['val_losses'],\n",
    "#     checkpoint['train_accuracies'],\n",
    "#     checkpoint['val_accuracies'],\n",
    "#     checkpoint['train_perplexities'],\n",
    "#     checkpoint['val_perplexities']\n",
    "# )"
   ]
  },
  {
   "cell_type": "code",
   "execution_count": null,
   "metadata": {},
   "outputs": [],
   "source": []
  },
  {
   "cell_type": "code",
   "execution_count": null,
   "metadata": {},
   "outputs": [],
   "source": []
  },
  {
   "cell_type": "code",
   "execution_count": 16,
   "metadata": {},
   "outputs": [
    {
     "data": {
      "text/plain": [
       "'runs/epoch_1_30/best_model.pth'"
      ]
     },
     "execution_count": 16,
     "metadata": {},
     "output_type": "execute_result"
    }
   ],
   "source": [
    "best_model_path"
   ]
  },
  {
   "cell_type": "code",
   "execution_count": 17,
   "metadata": {},
   "outputs": [
    {
     "name": "stdout",
     "output_type": "stream",
     "text": [
      "Loaded best model weights from 'runs/epoch_1_30/best_model.pth' for inference.\n"
     ]
    }
   ],
   "source": [
    "if os.path.exists(best_model_path):\n",
    "    model.load_state_dict(torch.load(best_model_path))\n",
    "    print(f\"Loaded best model weights from '{best_model_path}' for inference.\")\n",
    "else:\n",
    "    print(\"No best model found. Using the last trained model for inference.\")"
   ]
  },
  {
   "cell_type": "code",
   "execution_count": null,
   "metadata": {},
   "outputs": [],
   "source": []
  },
  {
   "cell_type": "code",
   "execution_count": 18,
   "metadata": {},
   "outputs": [
    {
     "name": "stdout",
     "output_type": "stream",
     "text": [
      "\n",
      "--- Generating Text ---\n",
      "\n",
      "Prompt: 'I think this movie was'\n",
      "--------------------------------------------------\n",
      "Generated Text:\n",
      "'i think this movie was a great movie i have seen it in a long time and i have to say that it was a great movie i have seen it times and i have seen it times and i have to say that i have seen it times and i have to say that i have seen it times and i have to say that it is a great movie i have seen it again and again and again and again and again i recommend it to anyone who likes it and if you are a fan of the original and i recommend it'\n",
      "--------------------------------------------------\n"
     ]
    }
   ],
   "source": [
    "prompt = \"I think this movie was\"\n",
    "\n",
    "# 3. Generate the text\n",
    "print(\"\\n--- Generating Text ---\")\n",
    "generated_text = generate_text(\n",
    "    model=model,\n",
    "    prompt=prompt,\n",
    "    tokenizer=tokenizer,\n",
    "    vocab=vocab,\n",
    "    block_size=BLOCK_SIZE,\n",
    "    max_new_tokens=100,  # Generate 100 new tokens\n",
    "    device=DEVICE\n",
    ")\n",
    "\n",
    "# 4. Print the final result\n",
    "print(f\"\\nPrompt: '{prompt}'\")\n",
    "print(\"-\" * 50)\n",
    "print(f\"Generated Text:\\n'{generated_text}'\")\n",
    "print(\"-\" * 50)"
   ]
  },
  {
   "cell_type": "code",
   "execution_count": null,
   "metadata": {},
   "outputs": [],
   "source": []
  },
  {
   "cell_type": "code",
   "execution_count": 20,
   "metadata": {},
   "outputs": [
    {
     "name": "stdout",
     "output_type": "stream",
     "text": [
      "--- Starting Batch Generation ---\n",
      "--------------------------------------------------------------------------------\n",
      "PROMPT: 'This is one of the best films I have ever seen.'\n",
      "\n",
      "GENERATED: 'this is one of the best films i have ever seen <unk> is a great film and i have seen it times and i have seen it times and i have to say that it is a great movie i have seen it times and i have to say that it is a great movie and i recommend it to anyone who'\n",
      "\n",
      "--------------------------------------------------------------------------------\n",
      "PROMPT: 'The plot was full of holes and the characters were'\n",
      "\n",
      "GENERATED: 'the plot was full of holes and the characters were not developed and the characters were not developed and the characters were not developed and the story was not developed and the characters were not developed and the story was not developed and the characters were not developed and the story was not very interesting and the story was very'\n",
      "\n",
      "--------------------------------------------------------------------------------\n",
      "PROMPT: 'The story is about a young detective who discovers'\n",
      "\n",
      "GENERATED: 'the story is about a young detective who discovers a potion that is a <unk> and a woman who is a <unk> and is a <unk> <unk> <unk> <unk> <unk> <unk> <unk> <unk> <unk> <unk> <unk> <unk> <unk> <unk> <unk> <unk> <unk> <unk> <unk> <unk> <unk> <unk> <unk> <unk> <unk> <unk> <unk> <unk> <unk> <unk> <unk> <unk> <unk> <unk>'\n",
      "\n",
      "--------------------------------------------------------------------------------\n",
      "PROMPT: 'That one scene with the car was just'\n",
      "\n",
      "GENERATED: 'that one scene with the car was just a little too long and the movie was just too long and the ending was so predictable and the ending was so predictable and the ending was so predictable and the ending was so predictable and the ending was so predictable and the ending was so predictable and the ending'\n",
      "\n",
      "--- Batch Generation Complete ---\n"
     ]
    }
   ],
   "source": [
    "model.eval()\n",
    "\n",
    "prompts_to_test = [\n",
    "    \"This is one of the best films I have ever seen.\",\n",
    "    \"The plot was full of holes and the characters were\",\n",
    "    \"The story is about a young detective who discovers\",\n",
    "    \"That one scene with the car was just\"\n",
    "]\n",
    "\n",
    "print(\"--- Starting Batch Generation ---\")\n",
    "\n",
    "for prompt in prompts_to_test:\n",
    "    generated_text = generate_text(\n",
    "        model=model,\n",
    "        prompt=prompt,\n",
    "        tokenizer=tokenizer,\n",
    "        vocab=vocab,\n",
    "        block_size=BLOCK_SIZE,\n",
    "        max_new_tokens=50,  # Generate 50 new tokens for each prompt\n",
    "        device=DEVICE\n",
    "    )\n",
    "    \n",
    "    print(\"-\" * 80)\n",
    "    print(f\"PROMPT: '{prompt}'\")\n",
    "    print(f\"\\nGENERATED: '{generated_text}'\\n\")\n",
    "\n",
    "print(\"--- Batch Generation Complete ---\")"
   ]
  },
  {
   "cell_type": "code",
   "execution_count": null,
   "metadata": {},
   "outputs": [],
   "source": []
  }
 ],
 "metadata": {
  "kernelspec": {
   "display_name": "Python 3",
   "language": "python",
   "name": "python3"
  },
  "language_info": {
   "codemirror_mode": {
    "name": "ipython",
    "version": 3
   },
   "file_extension": ".py",
   "mimetype": "text/x-python",
   "name": "python",
   "nbconvert_exporter": "python",
   "pygments_lexer": "ipython3",
   "version": "3.8.10"
  }
 },
 "nbformat": 4,
 "nbformat_minor": 2
}
