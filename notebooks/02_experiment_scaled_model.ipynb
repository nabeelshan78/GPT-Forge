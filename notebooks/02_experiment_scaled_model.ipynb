{
 "cells": [
  {
   "cell_type": "code",
   "execution_count": 1,
   "metadata": {},
   "outputs": [],
   "source": [
    "# !pip install torch==2.2.0\n",
    "# !pip install torchtext==0.17.2\n",
    "# !pip install torchdata==0.7.1\n",
    "# !pip install transformers==4.35.2\n",
    "# !pip install seaborn"
   ]
  },
  {
   "cell_type": "code",
   "execution_count": 2,
   "metadata": {},
   "outputs": [],
   "source": [
    "import os\n",
    "os.chdir(\"..\")"
   ]
  },
  {
   "cell_type": "code",
   "execution_count": 3,
   "metadata": {},
   "outputs": [],
   "source": [
    "from src.dataloader import get_dataloaders\n",
    "from src.model import CustomGPTModel\n",
    "from src.engine import train_one_epoch, evaluate\n",
    "from src.utils import generate_text, setup_logging\n",
    "from src.config import *\n",
    "\n",
    "import torch\n",
    "import torch.nn as nn\n",
    "import time\n",
    "\n",
    "import matplotlib.pyplot as plt\n",
    "from typing import List\n",
    "from torch.optim.lr_scheduler import StepLR"
   ]
  },
  {
   "cell_type": "code",
   "execution_count": null,
   "metadata": {},
   "outputs": [],
   "source": []
  },
  {
   "cell_type": "code",
   "execution_count": 4,
   "metadata": {},
   "outputs": [],
   "source": [
    "EXPERIMENT_DIR = 'runs/epoch_1_20_v2'\n",
    "os.makedirs(EXPERIMENT_DIR, exist_ok=True)\n",
    "best_model_path = os.path.join(EXPERIMENT_DIR, \"best_model.pth\")\n",
    "checkpoint_path = os.path.join(EXPERIMENT_DIR, \"latest_checkpoint.pth\")\n",
    "log_file_path = os.path.join(EXPERIMENT_DIR, \"training.log\")"
   ]
  },
  {
   "cell_type": "code",
   "execution_count": 5,
   "metadata": {},
   "outputs": [],
   "source": [
    "logger = setup_logging(log_file_path)"
   ]
  },
  {
   "cell_type": "code",
   "execution_count": 13,
   "metadata": {},
   "outputs": [
    {
     "name": "stdout",
     "output_type": "stream",
     "text": [
      "Loading pre-processed data and vocabulary...\n",
      "Vocabulary Size: 39270\n",
      "Loading complete.\n",
      "\n",
      "--- Inspecting a single batch from the train_dataloader ---\n",
      "Shape of the source (src) batch:\ttorch.Size([64, 64]) -> [sequence_length, batch_size]\n",
      "Shape of the target (tgt) batch:\ttorch.Size([64, 64]) -> [sequence_length, batch_size]\n",
      "\n",
      "--- Inspecting the first example in the batch ---\n",
      "Shape of a single source example:\ttorch.Size([64])\n",
      "\n",
      "Decoded Source (Input to Model):\n",
      "'this should have made me think about anything in the <unk> the unnoticed girl is on her way to commit suicide was i the only person cheering her on the clichd classical music long tracking shots melancholy emotion of the film by that stage had me in reversal to what was intended i would have only been happy if she walked into the room'\n",
      "\n",
      "Decoded Target (What Model Predicts):\n",
      "'should have made me think about anything in the <unk> the unnoticed girl is on her way to commit suicide was i the only person cheering her on the clichd classical music long tracking shots melancholy emotion of the film by that stage had me in reversal to what was intended i would have only been happy if she walked into the room and'\n",
      "------------------------------------------------------------\n"
     ]
    }
   ],
   "source": [
    "train_dataloader, val_dataloader, test_dataloader, vocab = get_dataloaders(\n",
    "    processed_data_path=PROCESSED_DATA_PATH,\n",
    "    vocab_path=VOCAB_PATH,\n",
    "    tokenizer=tokenizer,\n",
    "    block_size=BLOCK_SIZE,\n",
    "    batch_size=BATCH_SIZE,\n",
    "    device=DEVICE,\n",
    "    PAD_IDX=PAD_IDX,\n",
    "    END_OF_TEXT_TOKEN=END_OF_TEXT_TOKEN\n",
    ")"
   ]
  },
  {
   "cell_type": "code",
   "execution_count": null,
   "metadata": {},
   "outputs": [],
   "source": []
  },
  {
   "cell_type": "code",
   "execution_count": 7,
   "metadata": {},
   "outputs": [],
   "source": [
    "VOCAB_SIZE = len(vocab)"
   ]
  },
  {
   "cell_type": "code",
   "execution_count": 8,
   "metadata": {},
   "outputs": [
    {
     "data": {
      "text/plain": [
       "39270"
      ]
     },
     "execution_count": 8,
     "metadata": {},
     "output_type": "execute_result"
    }
   ],
   "source": [
    "VOCAB_SIZE"
   ]
  },
  {
   "cell_type": "code",
   "execution_count": null,
   "metadata": {},
   "outputs": [],
   "source": []
  },
  {
   "cell_type": "code",
   "execution_count": 10,
   "metadata": {},
   "outputs": [],
   "source": [
    "model = CustomGPTModel(\n",
    "    vocab_size=VOCAB_SIZE,\n",
    "    embed_size=EMBED_SIZE,\n",
    "    num_heads=NUM_HEADS,\n",
    "    num_layers=NUM_LAYERS,\n",
    "    dropout=DROPOUT,\n",
    "    max_seq_len=BLOCK_SIZE\n",
    ").to(DEVICE)\n",
    "\n",
    "\n",
    "\n",
    "NUM_EPOCHS = 30\n",
    "\n",
    "optimizer = torch.optim.AdamW(model.parameters(), lr=0.0003) \n",
    "scheduler = StepLR(optimizer, step_size=1, gamma=1.0) \n",
    "loss_fn = nn.CrossEntropyLoss(ignore_index=PAD_IDX)"
   ]
  },
  {
   "cell_type": "code",
   "execution_count": 12,
   "metadata": {},
   "outputs": [
    {
     "name": "stdout",
     "output_type": "stream",
     "text": [
      "Total Trainable Parameters: 52,861,286\n"
     ]
    }
   ],
   "source": [
    "def count_parameters(model: nn.Module) -> int:\n",
    "    return sum(p.numel() for p in model.parameters() if p.requires_grad)\n",
    "\n",
    "total_params = count_parameters(model)\n",
    "print(f\"Total Trainable Parameters: {total_params:,}\")"
   ]
  },
  {
   "cell_type": "code",
   "execution_count": null,
   "metadata": {},
   "outputs": [],
   "source": []
  },
  {
   "cell_type": "code",
   "execution_count": null,
   "metadata": {
    "scrolled": true
   },
   "outputs": [
    {
     "name": "stdout",
     "output_type": "stream",
     "text": [
      "2025-08-15 18:37:39,835 - INFO - Starting training for 30 epochs on device: cuda\n"
     ]
    },
    {
     "name": "stderr",
     "output_type": "stream",
     "text": [
      "Training Epoch: 100%|██████████| 625/625 [01:00<00:00, 10.30it/s, loss=6.7689, acc=0.0678]\n",
      "Evaluating: 100%|██████████| 79/79 [00:03<00:00, 23.96it/s]"
     ]
    },
    {
     "name": "stdout",
     "output_type": "stream",
     "text": [
      "2025-08-15 18:38:43,830 - INFO - | Epoch   1/ 30 | Time: 63.99s | LR: 0.000300 | Train Loss: 6.769, PPL:   870.32, Acc:  6.78% | Val Loss: 6.326, PPL:   559.09, Acc:  9.75% |\n"
     ]
    },
    {
     "name": "stderr",
     "output_type": "stream",
     "text": [
      "\n"
     ]
    },
    {
     "name": "stdout",
     "output_type": "stream",
     "text": [
      "2025-08-15 18:38:44,875 - INFO - -> New best model saved to 'runs/epoch_1_20_v2/best_model.pth' with validation loss: 6.326\n"
     ]
    },
    {
     "name": "stderr",
     "output_type": "stream",
     "text": [
      "Training Epoch: 100%|██████████| 625/625 [01:00<00:00, 10.32it/s, loss=6.1655, acc=0.1101]\n",
      "Evaluating: 100%|██████████| 79/79 [00:03<00:00, 23.83it/s]"
     ]
    },
    {
     "name": "stdout",
     "output_type": "stream",
     "text": [
      "2025-08-15 18:39:51,648 - INFO - | Epoch   2/ 30 | Time: 63.89s | LR: 0.000300 | Train Loss: 6.166, PPL:   476.05, Acc: 11.01% | Val Loss: 5.926, PPL:   374.60, Acc: 12.65% |\n"
     ]
    },
    {
     "name": "stderr",
     "output_type": "stream",
     "text": [
      "\n"
     ]
    },
    {
     "name": "stdout",
     "output_type": "stream",
     "text": [
      "2025-08-15 18:39:52,663 - INFO - -> New best model saved to 'runs/epoch_1_20_v2/best_model.pth' with validation loss: 5.926\n"
     ]
    },
    {
     "name": "stderr",
     "output_type": "stream",
     "text": [
      "Training Epoch: 100%|██████████| 625/625 [01:00<00:00, 10.30it/s, loss=5.8386, acc=0.1313]\n",
      "Evaluating: 100%|██████████| 79/79 [00:03<00:00, 23.73it/s]"
     ]
    },
    {
     "name": "stdout",
     "output_type": "stream",
     "text": [
      "2025-08-15 18:40:59,538 - INFO - | Epoch   3/ 30 | Time: 64.02s | LR: 0.000300 | Train Loss: 5.839, PPL:   343.29, Acc: 13.13% | Val Loss: 5.669, PPL:   289.73, Acc: 14.37% |\n"
     ]
    },
    {
     "name": "stderr",
     "output_type": "stream",
     "text": [
      "\n"
     ]
    },
    {
     "name": "stdout",
     "output_type": "stream",
     "text": [
      "2025-08-15 18:41:00,569 - INFO - -> New best model saved to 'runs/epoch_1_20_v2/best_model.pth' with validation loss: 5.669\n"
     ]
    },
    {
     "name": "stderr",
     "output_type": "stream",
     "text": [
      "Training Epoch: 100%|██████████| 625/625 [01:00<00:00, 10.32it/s, loss=5.6085, acc=0.1479]\n",
      "Evaluating: 100%|██████████| 79/79 [00:03<00:00, 23.89it/s]"
     ]
    },
    {
     "name": "stdout",
     "output_type": "stream",
     "text": [
      "2025-08-15 18:42:07,372 - INFO - | Epoch   4/ 30 | Time: 63.90s | LR: 0.000300 | Train Loss: 5.608, PPL:   272.72, Acc: 14.79% | Val Loss: 5.493, PPL:   243.09, Acc: 15.88% |\n"
     ]
    },
    {
     "name": "stderr",
     "output_type": "stream",
     "text": [
      "\n"
     ]
    },
    {
     "name": "stdout",
     "output_type": "stream",
     "text": [
      "2025-08-15 18:42:08,471 - INFO - -> New best model saved to 'runs/epoch_1_20_v2/best_model.pth' with validation loss: 5.493\n"
     ]
    },
    {
     "name": "stderr",
     "output_type": "stream",
     "text": [
      "Training Epoch: 100%|██████████| 625/625 [01:00<00:00, 10.30it/s, loss=5.4378, acc=0.1599]\n",
      "Evaluating: 100%|██████████| 79/79 [00:03<00:00, 23.80it/s]"
     ]
    },
    {
     "name": "stdout",
     "output_type": "stream",
     "text": [
      "2025-08-15 18:43:15,444 - INFO - | Epoch   5/ 30 | Time: 64.02s | LR: 0.000300 | Train Loss: 5.438, PPL:   229.93, Acc: 15.99% | Val Loss: 5.354, PPL:   211.47, Acc: 16.84% |\n"
     ]
    },
    {
     "name": "stderr",
     "output_type": "stream",
     "text": [
      "\n"
     ]
    },
    {
     "name": "stdout",
     "output_type": "stream",
     "text": [
      "2025-08-15 18:43:16,482 - INFO - -> New best model saved to 'runs/epoch_1_20_v2/best_model.pth' with validation loss: 5.354\n"
     ]
    },
    {
     "name": "stderr",
     "output_type": "stream",
     "text": [
      "Training Epoch: 100%|██████████| 625/625 [01:00<00:00, 10.31it/s, loss=5.2952, acc=0.1698]\n",
      "Evaluating: 100%|██████████| 79/79 [00:03<00:00, 23.89it/s]"
     ]
    },
    {
     "name": "stdout",
     "output_type": "stream",
     "text": [
      "2025-08-15 18:44:23,313 - INFO - | Epoch   6/ 30 | Time: 63.93s | LR: 0.000300 | Train Loss: 5.295, PPL:   199.38, Acc: 16.98% | Val Loss: 5.256, PPL:   191.68, Acc: 17.67% |\n"
     ]
    },
    {
     "name": "stderr",
     "output_type": "stream",
     "text": [
      "\n"
     ]
    },
    {
     "name": "stdout",
     "output_type": "stream",
     "text": [
      "2025-08-15 18:44:24,347 - INFO - -> New best model saved to 'runs/epoch_1_20_v2/best_model.pth' with validation loss: 5.256\n"
     ]
    },
    {
     "name": "stderr",
     "output_type": "stream",
     "text": [
      "Training Epoch: 100%|██████████| 625/625 [01:00<00:00, 10.31it/s, loss=5.1784, acc=0.1777]\n",
      "Evaluating: 100%|██████████| 79/79 [00:03<00:00, 23.59it/s]"
     ]
    },
    {
     "name": "stdout",
     "output_type": "stream",
     "text": [
      "2025-08-15 18:45:31,197 - INFO - | Epoch   7/ 30 | Time: 63.95s | LR: 0.000300 | Train Loss: 5.178, PPL:   177.40, Acc: 17.77% | Val Loss: 5.172, PPL:   176.19, Acc: 18.27% |\n"
     ]
    },
    {
     "name": "stderr",
     "output_type": "stream",
     "text": [
      "\n"
     ]
    },
    {
     "name": "stdout",
     "output_type": "stream",
     "text": [
      "2025-08-15 18:45:32,281 - INFO - -> New best model saved to 'runs/epoch_1_20_v2/best_model.pth' with validation loss: 5.172\n"
     ]
    },
    {
     "name": "stderr",
     "output_type": "stream",
     "text": [
      "Training Epoch: 100%|██████████| 625/625 [01:00<00:00, 10.32it/s, loss=5.0765, acc=0.1842]\n",
      "Evaluating: 100%|██████████| 79/79 [00:03<00:00, 23.92it/s]"
     ]
    },
    {
     "name": "stdout",
     "output_type": "stream",
     "text": [
      "2025-08-15 18:46:39,038 - INFO - | Epoch   8/ 30 | Time: 63.88s | LR: 0.000300 | Train Loss: 5.076, PPL:   160.21, Acc: 18.42% | Val Loss: 5.118, PPL:   166.93, Acc: 18.75% |\n"
     ]
    },
    {
     "name": "stderr",
     "output_type": "stream",
     "text": [
      "\n"
     ]
    },
    {
     "name": "stdout",
     "output_type": "stream",
     "text": [
      "2025-08-15 18:46:40,072 - INFO - -> New best model saved to 'runs/epoch_1_20_v2/best_model.pth' with validation loss: 5.118\n"
     ]
    },
    {
     "name": "stderr",
     "output_type": "stream",
     "text": [
      "Training Epoch: 100%|██████████| 625/625 [01:00<00:00, 10.31it/s, loss=4.9896, acc=0.1896]\n",
      "Evaluating: 100%|██████████| 79/79 [00:03<00:00, 23.86it/s]"
     ]
    },
    {
     "name": "stdout",
     "output_type": "stream",
     "text": [
      "2025-08-15 18:47:46,945 - INFO - | Epoch   9/ 30 | Time: 63.93s | LR: 0.000300 | Train Loss: 4.990, PPL:   146.88, Acc: 18.96% | Val Loss: 5.088, PPL:   162.07, Acc: 19.17% |\n"
     ]
    },
    {
     "name": "stderr",
     "output_type": "stream",
     "text": [
      "\n"
     ]
    },
    {
     "name": "stdout",
     "output_type": "stream",
     "text": [
      "2025-08-15 18:47:47,984 - INFO - -> New best model saved to 'runs/epoch_1_20_v2/best_model.pth' with validation loss: 5.088\n"
     ]
    },
    {
     "name": "stderr",
     "output_type": "stream",
     "text": [
      "Training Epoch: 100%|██████████| 625/625 [01:00<00:00, 10.31it/s, loss=4.9146, acc=0.1942]\n",
      "Evaluating: 100%|██████████| 79/79 [00:03<00:00, 23.86it/s]"
     ]
    },
    {
     "name": "stdout",
     "output_type": "stream",
     "text": [
      "2025-08-15 18:48:54,804 - INFO - | Epoch  10/ 30 | Time: 63.91s | LR: 0.000300 | Train Loss: 4.915, PPL:   136.27, Acc: 19.42% | Val Loss: 5.044, PPL:   155.11, Acc: 19.53% |\n"
     ]
    },
    {
     "name": "stderr",
     "output_type": "stream",
     "text": [
      "\n"
     ]
    },
    {
     "name": "stdout",
     "output_type": "stream",
     "text": [
      "2025-08-15 18:48:55,832 - INFO - -> New best model saved to 'runs/epoch_1_20_v2/best_model.pth' with validation loss: 5.044\n"
     ]
    },
    {
     "name": "stderr",
     "output_type": "stream",
     "text": [
      "Training Epoch: 100%|██████████| 625/625 [01:00<00:00, 10.32it/s, loss=4.8411, acc=0.1988]\n",
      "Evaluating: 100%|██████████| 79/79 [00:03<00:00, 23.70it/s]"
     ]
    },
    {
     "name": "stdout",
     "output_type": "stream",
     "text": [
      "2025-08-15 18:50:02,633 - INFO - | Epoch  11/ 30 | Time: 63.92s | LR: 0.000300 | Train Loss: 4.841, PPL:   126.61, Acc: 19.88% | Val Loss: 5.020, PPL:   151.35, Acc: 19.79% |\n"
     ]
    },
    {
     "name": "stderr",
     "output_type": "stream",
     "text": [
      "\n"
     ]
    },
    {
     "name": "stdout",
     "output_type": "stream",
     "text": [
      "2025-08-15 18:50:03,523 - INFO - -> New best model saved to 'runs/epoch_1_20_v2/best_model.pth' with validation loss: 5.020\n"
     ]
    },
    {
     "name": "stderr",
     "output_type": "stream",
     "text": [
      "Training Epoch: 100%|██████████| 625/625 [01:00<00:00, 10.31it/s, loss=4.7804, acc=0.2023]\n",
      "Evaluating: 100%|██████████| 79/79 [00:03<00:00, 23.79it/s]"
     ]
    },
    {
     "name": "stdout",
     "output_type": "stream",
     "text": [
      "2025-08-15 18:51:10,422 - INFO - | Epoch  12/ 30 | Time: 63.94s | LR: 0.000300 | Train Loss: 4.780, PPL:   119.15, Acc: 20.23% | Val Loss: 5.013, PPL:   150.43, Acc: 19.84% |\n"
     ]
    },
    {
     "name": "stderr",
     "output_type": "stream",
     "text": [
      "\n"
     ]
    },
    {
     "name": "stdout",
     "output_type": "stream",
     "text": [
      "2025-08-15 18:51:11,472 - INFO - -> New best model saved to 'runs/epoch_1_20_v2/best_model.pth' with validation loss: 5.013\n"
     ]
    },
    {
     "name": "stderr",
     "output_type": "stream",
     "text": [
      "Training Epoch: 100%|██████████| 625/625 [01:00<00:00, 10.32it/s, loss=4.7190, acc=0.2058]\n",
      "Evaluating: 100%|██████████| 79/79 [00:03<00:00, 23.75it/s]"
     ]
    },
    {
     "name": "stdout",
     "output_type": "stream",
     "text": [
      "2025-08-15 18:52:18,283 - INFO - | Epoch  13/ 30 | Time: 63.89s | LR: 0.000300 | Train Loss: 4.719, PPL:   112.05, Acc: 20.58% | Val Loss: 4.990, PPL:   146.95, Acc: 20.09% |\n"
     ]
    },
    {
     "name": "stderr",
     "output_type": "stream",
     "text": [
      "\n"
     ]
    },
    {
     "name": "stdout",
     "output_type": "stream",
     "text": [
      "2025-08-15 18:52:19,413 - INFO - -> New best model saved to 'runs/epoch_1_20_v2/best_model.pth' with validation loss: 4.990\n"
     ]
    },
    {
     "name": "stderr",
     "output_type": "stream",
     "text": [
      "Training Epoch: 100%|██████████| 625/625 [01:00<00:00, 10.32it/s, loss=4.6617, acc=0.2101]\n",
      "Evaluating: 100%|██████████| 79/79 [00:03<00:00, 23.54it/s]"
     ]
    },
    {
     "name": "stdout",
     "output_type": "stream",
     "text": [
      "2025-08-15 18:53:26,310 - INFO - | Epoch  14/ 30 | Time: 63.95s | LR: 0.000300 | Train Loss: 4.662, PPL:   105.82, Acc: 21.01% | Val Loss: 4.985, PPL:   146.17, Acc: 20.15% |\n"
     ]
    },
    {
     "name": "stderr",
     "output_type": "stream",
     "text": [
      "\n"
     ]
    },
    {
     "name": "stdout",
     "output_type": "stream",
     "text": [
      "2025-08-15 18:53:27,365 - INFO - -> New best model saved to 'runs/epoch_1_20_v2/best_model.pth' with validation loss: 4.985\n"
     ]
    },
    {
     "name": "stderr",
     "output_type": "stream",
     "text": [
      "Training Epoch: 100%|██████████| 625/625 [01:00<00:00, 10.32it/s, loss=4.6107, acc=0.2130]\n",
      "Evaluating: 100%|██████████| 79/79 [00:03<00:00, 23.57it/s]"
     ]
    },
    {
     "name": "stdout",
     "output_type": "stream",
     "text": [
      "2025-08-15 18:54:34,190 - INFO - | Epoch  15/ 30 | Time: 63.93s | LR: 0.000300 | Train Loss: 4.611, PPL:   100.56, Acc: 21.30% | Val Loss: 4.985, PPL:   146.27, Acc: 20.29% |\n"
     ]
    },
    {
     "name": "stderr",
     "output_type": "stream",
     "text": [
      "\n",
      "Training Epoch: 100%|██████████| 625/625 [01:00<00:00, 10.32it/s, loss=4.5574, acc=0.2170]\n",
      "Evaluating: 100%|██████████| 79/79 [00:03<00:00, 23.67it/s]"
     ]
    },
    {
     "name": "stdout",
     "output_type": "stream",
     "text": [
      "2025-08-15 18:55:40,899 - INFO - | Epoch  16/ 30 | Time: 63.93s | LR: 0.000300 | Train Loss: 4.557, PPL:    95.33, Acc: 21.70% | Val Loss: 4.975, PPL:   144.80, Acc: 20.36% |\n"
     ]
    },
    {
     "name": "stderr",
     "output_type": "stream",
     "text": [
      "\n"
     ]
    },
    {
     "name": "stdout",
     "output_type": "stream",
     "text": [
      "2025-08-15 18:55:41,983 - INFO - -> New best model saved to 'runs/epoch_1_20_v2/best_model.pth' with validation loss: 4.975\n"
     ]
    },
    {
     "name": "stderr",
     "output_type": "stream",
     "text": [
      "Training Epoch: 100%|██████████| 625/625 [01:00<00:00, 10.28it/s, loss=4.5122, acc=0.2202]\n",
      "Evaluating: 100%|██████████| 79/79 [00:03<00:00, 23.96it/s]"
     ]
    },
    {
     "name": "stdout",
     "output_type": "stream",
     "text": [
      "2025-08-15 18:56:48,935 - INFO - | Epoch  17/ 30 | Time: 64.10s | LR: 0.000300 | Train Loss: 4.512, PPL:    91.12, Acc: 22.02% | Val Loss: 4.967, PPL:   143.55, Acc: 20.41% |\n"
     ]
    },
    {
     "name": "stderr",
     "output_type": "stream",
     "text": [
      "\n"
     ]
    },
    {
     "name": "stdout",
     "output_type": "stream",
     "text": [
      "2025-08-15 18:56:49,964 - INFO - -> New best model saved to 'runs/epoch_1_20_v2/best_model.pth' with validation loss: 4.967\n"
     ]
    },
    {
     "name": "stderr",
     "output_type": "stream",
     "text": [
      "Training Epoch: 100%|██████████| 625/625 [01:00<00:00, 10.31it/s, loss=4.4680, acc=0.2237]\n",
      "Evaluating: 100%|██████████| 79/79 [00:03<00:00, 23.98it/s]"
     ]
    },
    {
     "name": "stdout",
     "output_type": "stream",
     "text": [
      "2025-08-15 18:57:56,730 - INFO - | Epoch  18/ 30 | Time: 63.91s | LR: 0.000300 | Train Loss: 4.468, PPL:    87.18, Acc: 22.37% | Val Loss: 4.976, PPL:   144.92, Acc: 20.44% |\n"
     ]
    },
    {
     "name": "stderr",
     "output_type": "stream",
     "text": [
      "\n",
      "Training Epoch: 100%|██████████| 625/625 [01:00<00:00, 10.32it/s, loss=4.4243, acc=0.2268]\n",
      "Evaluating: 100%|██████████| 79/79 [00:03<00:00, 24.05it/s]"
     ]
    },
    {
     "name": "stdout",
     "output_type": "stream",
     "text": [
      "2025-08-15 18:59:03,619 - INFO - | Epoch  19/ 30 | Time: 63.89s | LR: 0.000300 | Train Loss: 4.424, PPL:    83.46, Acc: 22.68% | Val Loss: 4.981, PPL:   145.67, Acc: 20.44% |\n"
     ]
    },
    {
     "name": "stderr",
     "output_type": "stream",
     "text": [
      "\n",
      "Training Epoch: 100%|██████████| 625/625 [01:00<00:00, 10.31it/s, loss=4.3814, acc=0.2305]\n",
      "Evaluating: 100%|██████████| 79/79 [00:03<00:00, 24.01it/s]"
     ]
    },
    {
     "name": "stdout",
     "output_type": "stream",
     "text": [
      "2025-08-15 19:00:10,424 - INFO - | Epoch  20/ 30 | Time: 63.94s | LR: 0.000300 | Train Loss: 4.381, PPL:    79.95, Acc: 23.05% | Val Loss: 4.982, PPL:   145.70, Acc: 20.59% |\n"
     ]
    },
    {
     "name": "stderr",
     "output_type": "stream",
     "text": [
      "\n",
      "Training Epoch: 100%|██████████| 625/625 [01:00<00:00, 10.29it/s, loss=4.3455, acc=0.2336]\n",
      "Evaluating: 100%|██████████| 79/79 [00:03<00:00, 23.61it/s]"
     ]
    },
    {
     "name": "stdout",
     "output_type": "stream",
     "text": [
      "2025-08-15 19:01:17,524 - INFO - | Epoch  21/ 30 | Time: 64.07s | LR: 0.000300 | Train Loss: 4.346, PPL:    77.13, Acc: 23.36% | Val Loss: 4.971, PPL:   144.21, Acc: 20.68% |\n"
     ]
    },
    {
     "name": "stderr",
     "output_type": "stream",
     "text": [
      "\n",
      "Training Epoch: 100%|██████████| 625/625 [01:00<00:00, 10.31it/s, loss=4.3057, acc=0.2368]\n",
      "Evaluating: 100%|██████████| 79/79 [00:03<00:00, 24.04it/s]"
     ]
    },
    {
     "name": "stdout",
     "output_type": "stream",
     "text": [
      "2025-08-15 19:02:24,420 - INFO - | Epoch  22/ 30 | Time: 63.94s | LR: 0.000300 | Train Loss: 4.306, PPL:    74.12, Acc: 23.68% | Val Loss: 4.982, PPL:   145.70, Acc: 20.68% |\n"
     ]
    },
    {
     "name": "stderr",
     "output_type": "stream",
     "text": [
      "\n",
      "Training Epoch:  12%|█▏        | 75/625 [00:07<00:53, 10.29it/s, loss=4.2304, acc=0.2437]"
     ]
    }
   ],
   "source": [
    "train_losses, train_accuracies, train_perplexities = [], [], []\n",
    "val_losses, val_accuracies, val_perplexities = [], [], []\n",
    "\n",
    "start_epoch = 1\n",
    "best_val_loss = float('inf')\n",
    "\n",
    "logger.info(f\"Starting training for {NUM_EPOCHS} epochs on device: {DEVICE}\")\n",
    "\n",
    "for epoch in range(start_epoch, NUM_EPOCHS + 1):\n",
    "    epoch_start_time = time.time()\n",
    "\n",
    "    train_loss, train_acc, train_ppl = train_one_epoch(model, train_dataloader, loss_fn, optimizer, scheduler, DEVICE)\n",
    "    val_loss, val_acc, val_ppl = evaluate(model, val_dataloader, loss_fn, DEVICE)\n",
    "    \n",
    "    epoch_duration = time.time() - epoch_start_time\n",
    "    current_lr = optimizer.param_groups[0]['lr']\n",
    "\n",
    "    train_losses.append(train_loss)\n",
    "    train_accuracies.append(train_acc)\n",
    "    train_perplexities.append(train_ppl)\n",
    "    val_losses.append(val_loss)\n",
    "    val_accuracies.append(val_acc)\n",
    "    val_perplexities.append(val_ppl)\n",
    "\n",
    "    log_message = (\n",
    "    f\"| Epoch {epoch:3d}/{NUM_EPOCHS:3d} | Time: {epoch_duration:5.2f}s | LR: {current_lr:.6f} | \"\n",
    "    f\"Train Loss: {train_loss:5.3f}, PPL: {train_ppl:8.2f}, Acc: {train_acc*100:5.2f}% | \"\n",
    "    f\"Val Loss: {val_loss:5.3f}, PPL: {val_ppl:8.2f}, Acc: {val_acc*100:5.2f}% |\"\n",
    "    )\n",
    "    logger.info(log_message)\n",
    "\n",
    "    if val_loss < best_val_loss:\n",
    "        best_val_loss = val_loss\n",
    "        torch.save(model.state_dict(), best_model_path)\n",
    "        logger.info(f\"-> New best model saved to '{best_model_path}' with validation loss: {best_val_loss:.3f}\")\n",
    "\n",
    "\n",
    "    torch.save({\n",
    "        'epoch': epoch,\n",
    "        'model_state_dict': model.state_dict(),\n",
    "        'optimizer_state_dict': optimizer.state_dict(),\n",
    "        'scheduler_state_dict': scheduler.state_dict(),\n",
    "        'best_val_loss': best_val_loss,\n",
    "        'train_losses': train_losses,\n",
    "        'train_accuracies': train_accuracies,\n",
    "        'train_perplexities': train_perplexities,\n",
    "        'val_losses': val_losses,\n",
    "        'val_accuracies': val_accuracies,\n",
    "        'val_perplexities': val_perplexities\n",
    "        \n",
    "    }, checkpoint_path)"
   ]
  },
  {
   "cell_type": "code",
   "execution_count": null,
   "metadata": {},
   "outputs": [],
   "source": []
  },
  {
   "cell_type": "code",
   "execution_count": 4,
   "metadata": {},
   "outputs": [],
   "source": [
    "def plot_history(\n",
    "    train_losses: List[float],\n",
    "    val_losses: List[float],\n",
    "    train_accuracies: List[float],\n",
    "    val_accuracies: List[float],\n",
    "    train_perplexities: List[float],\n",
    "    val_perplexities: List[float]\n",
    "):\n",
    "    \"\"\"\n",
    "    Plots the training and validation metrics over epochs.\n",
    "    \"\"\"\n",
    "    epochs = range(1, len(train_losses) + 1)\n",
    "    \n",
    "    plt.figure(figsize=(18, 5))\n",
    "    \n",
    "    # --- Subplot 1: Loss ---\n",
    "    plt.subplot(1, 3, 1)\n",
    "    plt.plot(epochs, train_losses, 'bo-', label='Training Loss')\n",
    "    plt.plot(epochs, val_losses, 'ro-', label='Validation Loss')\n",
    "    plt.title('Training and Validation Loss')\n",
    "    plt.xlabel('Epochs')\n",
    "    plt.ylabel('Loss')\n",
    "    plt.legend()\n",
    "    plt.grid(True)\n",
    "    \n",
    "    # --- Subplot 2: Accuracy ---\n",
    "    plt.subplot(1, 3, 2)\n",
    "    plt.plot(epochs, train_accuracies, 'bo-', label='Training Accuracy')\n",
    "    plt.plot(epochs, val_accuracies, 'ro-', label='Validation Accuracy')\n",
    "    plt.title('Training and Validation Accuracy')\n",
    "    plt.xlabel('Epochs')\n",
    "    plt.ylabel('Accuracy')\n",
    "    plt.legend()\n",
    "    plt.grid(True)\n",
    "    \n",
    "    # --- Subplot 3: Perplexity ---\n",
    "    plt.subplot(1, 3, 3)\n",
    "    plt.plot(epochs, train_perplexities, 'bo-', label='Training Perplexity')\n",
    "    plt.plot(epochs, val_perplexities, 'ro-', label='Validation Perplexity')\n",
    "    plt.title('Training and Validation Perplexity')\n",
    "    plt.xlabel('Epochs')\n",
    "    plt.ylabel('Perplexity')\n",
    "    plt.legend()\n",
    "    plt.grid(True)\n",
    "    \n",
    "    plt.tight_layout()\n",
    "    plt.show()"
   ]
  },
  {
   "cell_type": "code",
   "execution_count": 5,
   "metadata": {},
   "outputs": [
    {
     "data": {
      "image/png": "[encoded data removed]",
      "text/plain": [
       "<Figure size 1800x500 with 3 Axes>"
      ]
     },
     "metadata": {},
     "output_type": "display_data"
    }
   ],
   "source": [
    "# plot_history(\n",
    "#     train_losses,\n",
    "#     val_losses,\n",
    "#     train_accuracies,\n",
    "#     val_accuracies,\n",
    "#     train_perplexities,\n",
    "#     val_perplexities\n",
    "# )\n",
    "\n",
    "EXPERIMENT_DIR = 'runs/epoch_1_20_v2'\n",
    "checkpoint_path = os.path.join(EXPERIMENT_DIR, \"latest_checkpoint.pth\")\n",
    "checkpoint = torch.load(checkpoint_path)\n",
    "plot_history(\n",
    "    checkpoint['train_losses'],\n",
    "    checkpoint['val_losses'],\n",
    "    checkpoint['train_accuracies'],\n",
    "    checkpoint['val_accuracies'],\n",
    "    checkpoint['train_perplexities'],\n",
    "    checkpoint['val_perplexities']\n",
    ")"
   ]
  },
  {
   "cell_type": "code",
   "execution_count": null,
   "metadata": {},
   "outputs": [],
   "source": []
  },
  {
   "cell_type": "code",
   "execution_count": 7,
   "metadata": {},
   "outputs": [],
   "source": [
    "best_model_path = os.path.join(EXPERIMENT_DIR, \"best_model.pth\")"
   ]
  },
  {
   "cell_type": "code",
   "execution_count": 8,
   "metadata": {},
   "outputs": [
    {
     "data": {
      "text/plain": [
       "'runs/epoch_1_20_v2/best_model.pth'"
      ]
     },
     "execution_count": 8,
     "metadata": {},
     "output_type": "execute_result"
    }
   ],
   "source": [
    "best_model_path"
   ]
  },
  {
   "cell_type": "code",
   "execution_count": 11,
   "metadata": {},
   "outputs": [
    {
     "name": "stdout",
     "output_type": "stream",
     "text": [
      "Loaded best model weights from 'runs/epoch_1_20_v2/best_model.pth' for inference.\n"
     ]
    }
   ],
   "source": [
    "if os.path.exists(best_model_path):\n",
    "    model.load_state_dict(torch.load(best_model_path))\n",
    "    print(f\"Loaded best model weights from '{best_model_path}' for inference.\")\n",
    "else:\n",
    "    print(\"No best model found. Using the last trained model for inference.\")"
   ]
  },
  {
   "cell_type": "code",
   "execution_count": null,
   "metadata": {},
   "outputs": [],
   "source": []
  },
  {
   "cell_type": "code",
   "execution_count": 14,
   "metadata": {},
   "outputs": [
    {
     "name": "stdout",
     "output_type": "stream",
     "text": [
      "\n",
      "--- Generating Text ---\n",
      "\n",
      "Prompt: 'I think this movie was'\n",
      "--------------------------------------------------\n",
      "Generated Text:\n",
      "'i think this movie was a bit too much for me but i was pleasantly surprised by the acting and the story line i was disappointed with the movie the plot was pretty weak and the acting was pretty good but the story was pretty weak and the plot was weak the plot was weak and the acting was pretty good but the movie was a little too long and the plot was pretty weak the plot was pretty weak and the acting was pretty good but the movie was a little too long and the plot was pretty much a little too much to'\n",
      "--------------------------------------------------\n"
     ]
    }
   ],
   "source": [
    "prompt = \"I think this movie was\"\n",
    "\n",
    "# 3. Generate the text\n",
    "print(\"\\n--- Generating Text ---\")\n",
    "generated_text = generate_text(\n",
    "    model=model,\n",
    "    prompt=prompt,\n",
    "    tokenizer=tokenizer,\n",
    "    vocab=vocab,\n",
    "    block_size=BLOCK_SIZE,\n",
    "    max_new_tokens=100,  # Generate 100 new tokens\n",
    "    device=DEVICE\n",
    ")\n",
    "\n",
    "# 4. Print the final result\n",
    "print(f\"\\nPrompt: '{prompt}'\")\n",
    "print(\"-\" * 50)\n",
    "print(f\"Generated Text:\\n'{generated_text}'\")\n",
    "print(\"-\" * 50)"
   ]
  },
  {
   "cell_type": "code",
   "execution_count": null,
   "metadata": {},
   "outputs": [],
   "source": []
  },
  {
   "cell_type": "code",
   "execution_count": 15,
   "metadata": {},
   "outputs": [
    {
     "name": "stdout",
     "output_type": "stream",
     "text": [
      "--- Starting Batch Generation ---\n",
      "--------------------------------------------------------------------------------\n",
      "PROMPT: 'This is one of the best films I have ever seen.'\n",
      "\n",
      "GENERATED: 'this is one of the best films i have ever seen <unk> is a great film and i have seen it times over and over again and again and again i have seen it times over and over again and again and again i have seen it again and again and again and again and again i have seen it again and'\n",
      "\n",
      "--------------------------------------------------------------------------------\n",
      "PROMPT: 'The plot was full of holes and the characters were'\n",
      "\n",
      "GENERATED: 'the plot was full of holes and the characters were so underdeveloped that they were not even close to the original story the plot was so weak and the acting was so bad that i couldnt care less about the characters and the plot was so bad that i couldnt care less about the characters and the plot was so'\n",
      "\n",
      "--------------------------------------------------------------------------------\n",
      "PROMPT: 'The story is about a young detective who discovers'\n",
      "\n",
      "GENERATED: 'the story is about a young detective who discovers that his wife is a man who is a man who is a man who is a man who is a man who is a man who is a man who is a man who is a man who is a man who is a man who is a man'\n",
      "\n",
      "--------------------------------------------------------------------------------\n",
      "PROMPT: 'That one scene with the car was just'\n",
      "\n",
      "GENERATED: 'that one scene with the car was just a bit of a stretch but the movie was so bad that i was expecting a lot of the movie was actually quite good but i was expecting a lot of the movie to be a little bit of a surprise ending but it was a good movie to watch'\n",
      "\n",
      "--- Batch Generation Complete ---\n"
     ]
    }
   ],
   "source": [
    "model.eval()\n",
    "\n",
    "prompts_to_test = [\n",
    "    \"This is one of the best films I have ever seen.\",\n",
    "    \"The plot was full of holes and the characters were\",\n",
    "    \"The story is about a young detective who discovers\",\n",
    "    \"That one scene with the car was just\"\n",
    "]\n",
    "\n",
    "print(\"--- Starting Batch Generation ---\")\n",
    "\n",
    "for prompt in prompts_to_test:\n",
    "    generated_text = generate_text(\n",
    "        model=model,\n",
    "        prompt=prompt,\n",
    "        tokenizer=tokenizer,\n",
    "        vocab=vocab,\n",
    "        block_size=BLOCK_SIZE,\n",
    "        max_new_tokens=50,  # Generate 50 new tokens for each prompt\n",
    "        device=DEVICE\n",
    "    )\n",
    "    \n",
    "    print(\"-\" * 80)\n",
    "    print(f\"PROMPT: '{prompt}'\")\n",
    "    print(f\"\\nGENERATED: '{generated_text}'\\n\")\n",
    "\n",
    "print(\"--- Batch Generation Complete ---\")"
   ]
  },
  {
   "cell_type": "code",
   "execution_count": null,
   "metadata": {},
   "outputs": [],
   "source": []
  }
 ],
 "metadata": {
  "kernelspec": {
   "display_name": "Python 3",
   "language": "python",
   "name": "python3"
  },
  "language_info": {
   "codemirror_mode": {
    "name": "ipython",
    "version": 3
   },
   "file_extension": ".py",
   "mimetype": "text/x-python",
   "name": "python",
   "nbconvert_exporter": "python",
   "pygments_lexer": "ipython3",
   "version": "3.8.10"
  }
 },
 "nbformat": 4,
 "nbformat_minor": 2
}
